{
 "cells": [
  {
   "cell_type": "markdown",
   "metadata": {},
   "source": [
    "# Wrangling OpenStreetMap Data (Dallas Metro Area)"
   ]
  },
  {
   "cell_type": "markdown",
   "metadata": {},
   "source": [
    "In this project, I have used data munging techniques, such as assessing the quality of the data for \n",
    "* validity,\n",
    "* accuracy, \n",
    "* completeness, \n",
    "* consistency and\n",
    "* uniformity,\n",
    "\n",
    "to clean the OpenStreetMap data for a part of Dallas Metro Area"
   ]
  },
  {
   "cell_type": "markdown",
   "metadata": {},
   "source": [
    "## Project code structure"
   ]
  },
  {
   "cell_type": "markdown",
   "metadata": {},
   "source": [
    "### Importing all required packages from python"
   ]
  },
  {
   "cell_type": "code",
   "execution_count": 10,
   "metadata": {
    "collapsed": true
   },
   "outputs": [],
   "source": [
    "import codecs\n",
    "import re\n",
    "import json\n",
    "import pprint\n",
    "import xml.etree.cElementTree as ET"
   ]
  },
  {
   "cell_type": "markdown",
   "metadata": {},
   "source": [
    "In this project we are reading the Dallas.osm file which is a file in XML format. All the data in this file is in a tree structure. To analyse the XML data we are using the **xml.etree.cElementTree** package of Python.\n",
    "\n",
    "The output of out code will be in the form of JSON. The data will be wrangled and ready for further analysis. For performing JSON operations **json** package is imported from Python.\n",
    "\n",
    "The XML is created by human, and thus suseptable for data entry error. To check for human errors in data entry we will match the data with common errors with the help of regular expressions. To perform this operation we will be using the **re** package of Python.\n",
    "\n",
    "The json out can be difficult to read and understand in plain text form. To display the output for proper understanding we are using the **pprint** package of python."
   ]
  },
  {
   "cell_type": "markdown",
   "metadata": {},
   "source": [
    "### Setting up all the regular expression variables "
   ]
  },
  {
   "cell_type": "code",
   "execution_count": 12,
   "metadata": {
    "collapsed": true
   },
   "outputs": [],
   "source": [
    "# to get the street type\n",
    "street_type_re = re.compile(r'\\b\\S+\\.?$', re.IGNORECASE)"
   ]
  },
  {
   "cell_type": "markdown",
   "metadata": {},
   "source": [
    "### Setting up required dictionaries and lists"
   ]
  },
  {
   "cell_type": "code",
   "execution_count": 13,
   "metadata": {
    "collapsed": true
   },
   "outputs": [],
   "source": [
    "# elements to be nested in a json object\n",
    "CREATED = [ \"version\", \"changeset\", \"timestamp\", \"user\", \"uid\"]\n",
    "# expected name of the streets\n",
    "expected = [\"Street\", \"Avenue\", \"Boulevard\", \"Drive\", \"Court\", \"Place\", \"Square\", \"Lane\", \"Road\", \n",
    "\t\t\"Trail\", \"Parkway\", \"Commons\"]\n",
    "# mapping of street abbrivation to a corrected name\n",
    "mapping = { \"St\": \"Street\",\n",
    "        \"St.\": \"Street\",\n",
    "        \"Ave\": \"Avenue\",\n",
    "        \"Ave.\": \"Avenue\",\n",
    "        \"Av\": \"Avenue\",\n",
    "        \"Blvd\": \"Boulevard\",\n",
    "        \"Blvd.\": \"Boulevard\",\n",
    "        \"blvd\": \"Boulevard\",\n",
    "        \"Dr\": \"Drive\",\n",
    "        \"dr\": \"Drive\",\n",
    "        \"Dr.\": \"Drive\",\n",
    "        \"E\": \"Ease\",\n",
    "        \"Expy\": \"Expressway\",\n",
    "        \"Ln.\": \"Lane\",\n",
    "        \"N\": \"North\",\n",
    "        \"P\": \"Park\",\n",
    "        \"Pkwy\": \"Parkway\",\n",
    "        \"St\": \"Street\",\n",
    "        \"St.\": \"Street\",\n",
    "        \"Rd\": \"Road\",\n",
    "        \"Rd.\": \"Road\"\n",
    "        }"
   ]
  },
  {
   "cell_type": "markdown",
   "metadata": {},
   "source": [
    "* The above list (expected) and dictionary (mapping) are used in the further code for analysing the purity of data and correcting the same.\n",
    "* The **CREATED** list id the list of elements to be nested in the resulting json object."
   ]
  },
  {
   "cell_type": "markdown",
   "metadata": {},
   "source": [
    "### Correcting the names of street address"
   ]
  },
  {
   "cell_type": "code",
   "execution_count": 15,
   "metadata": {
    "collapsed": false
   },
   "outputs": [],
   "source": [
    "# method for correcting the street names\n",
    "def corrected_name(name):\n",
    "    # check with the regular expression\n",
    "\tm = street_type_re.search(name)\n",
    "\tif m:\n",
    "        # get the string value matched\n",
    "\t\tm = m.group()\n",
    "        # check if the value is not in the expected list\n",
    "\t\tif m not in expected:\n",
    "            # if the value found in mapping return the corrected string of that value\n",
    "\t\t\tif m in mapping:\n",
    "\t\t\t\treturn mapping[m]\n",
    "\t# if ecpression not found return the initial string\n",
    "\treturn name"
   ]
  },
  {
   "cell_type": "markdown",
   "metadata": {},
   "source": [
    "In this method the name is been corrected and returned if it is present in the mapping dictionnary"
   ]
  },
  {
   "cell_type": "markdown",
   "metadata": {},
   "source": [
    "### Shaping the data in required format"
   ]
  },
  {
   "cell_type": "code",
   "execution_count": 17,
   "metadata": {
    "collapsed": false
   },
   "outputs": [],
   "source": [
    "# get the element from the analysedata method\n",
    "def shape_element(element):\n",
    "    # initilize empty node dictionary\n",
    "\tnode = {}\n",
    "    # parse only the \"node\" and \"way\" tags\n",
    "\tif element.tag == \"node\" or element.tag == \"way\" :\n",
    "\t\tif element.tag == \"node\":\n",
    "\t\t\tnode['created'] = {}\n",
    "\t\t\tpos = []\n",
    "            # type cast latitude and longitude values from string to float\n",
    "\t\t\tpos.append(float(element.attrib['lat']))\n",
    "\t\t\tpos.append(float(element.attrib['lon']))\n",
    "\t\t\tnode['pos'] = pos\n",
    "\t\t\tnode['type'] = \"node\"\n",
    "\t\t\tfor k,v in element.attrib.items():\n",
    "                # check if the attribute is in the CREATED list\n",
    "\t\t\t\tif k in CREATED: # if yes insert it into the created dict of node\n",
    "\t\t\t\t\tnode['created'][k] = v\n",
    "\t\t\t\telif k==\"lat\" or k == \"lon\": # if its a lat or lon skip it as it is already been parsed\n",
    "\t\t\t\t\tcontinue\n",
    "\t\t\t\telse: # else insert directly into the node dictionary \n",
    "\t\t\t\t\tnode[k] = v\n",
    "\n",
    "\t\telif element.tag == \"way\":\n",
    "\t\t\tnode['created'] = {}\n",
    "\t\t\tnode['type'] = \"way\"\n",
    "\t\t\tfor k,v in element.attrib.items():\n",
    "\t\t\t\tif k in CREATED: # if yes insert it into the created dict of node\n",
    "\t\t\t\t\tnode['created'][k] = v\n",
    "\t\t\t\telse: # else insert directly into the node dictionary \n",
    "\t\t\t\t\tnode[k] = v\n",
    "\t\t\tnd = []\n",
    "\t\t\tfor n in element.findall('nd'): # find all the child elements of way node with 'nd' tag\n",
    "\t\t\t\t# append it to the nd array\n",
    "\t\t\t\tnd.append(n.attrib['ref'])\n",
    "\t\t\t# if nd is not empty inser it into the node dictinary\n",
    "\t\t\tif len(nd)>0:\n",
    "\t\t\t\tnode[\"node_refs\"] = nd\n",
    "\t\t\n",
    "\t\t# parse the address and insert it into node dictionary with proper value\n",
    "\t\taddr = {}\n",
    "        # find all the tags with element name 'tag'\n",
    "\t\tfor t in element.findall('tag'):\n",
    "            # split the 'k' attribute with ':' and check the count,\n",
    "            # skip the 'k' values with 2 ':'\n",
    "\t\t\tif t.attrib['k'].count(':') == 1:\n",
    "\t\t\t\t_m,v = t.attrib['k'].split(':')\n",
    "\t\t\t\tif _m == \"addr\":\n",
    "                    # if the _m value is 'addr' call the corrected_name method with its value.\n",
    "\t\t\t\t\tcname = corrected_name(t.attrib['v'])\n",
    "\t\t\t\t\taddr[v] = cname\n",
    "\t\t# if addr not empty insert it into node\n",
    "\t\tif len(addr)>0:\n",
    "\t\t\tnode['address'] = {}\n",
    "\t\t\tnode['address'] = addr\n",
    "        # return the final node\n",
    "\t\treturn node\n",
    "\telse: # if its not a tag or way element return None\n",
    "\t\treturn None"
   ]
  },
  {
   "cell_type": "markdown",
   "metadata": {},
   "source": [
    "* The above method checks for 'node' or 'way' tag and parses it acoordingly\n",
    "* The nested elements are been taken cared of in this method\n",
    "* The 'nd' array is been created in the if block for 'way' and data is been filled\n",
    "* Finally, the address is be fetched for both the tags and 'corrected_name' method is been called for value correction"
   ]
  },
  {
   "cell_type": "markdown",
   "metadata": {},
   "source": [
    "### The analysedata method"
   ]
  },
  {
   "cell_type": "code",
   "execution_count": 18,
   "metadata": {
    "collapsed": true
   },
   "outputs": [],
   "source": [
    "def analysedata(filename, pretty=False):\n",
    "\tdata = [] # empty list to hold the final json array and return back result\n",
    "\tfile_out = \"{0}.json\".format(filename) # saving the output to the filename.json format\n",
    "\twith codecs.open(file_out, 'w') as fo:\n",
    "\t\tfor _, element in ET.iterparse(filename):\n",
    "            # call to shape_element to get the information present in the element and its sub-element\n",
    "\t\t\tel = shape_element(element)\n",
    "            # check if returned data is not of None type\n",
    "\t\t\tif el:\n",
    "\t\t\t\tdata.append(el)\n",
    "                # if pretty parameter is set to true, then write the output in indented format\n",
    "\t\t\t\tif pretty:\n",
    "\t\t\t\t\tfo.write(json.dumps(el, indent=2)+\"\\n\")\n",
    "\t\t\t\telse:\n",
    "\t\t\t\t\tfo.write(json.dumps(el) + \"\\n\")\n",
    "    # returning the data list with all the objects\n",
    "\treturn data"
   ]
  },
  {
   "cell_type": "markdown",
   "metadata": {},
   "source": [
    "* The analysedata method writes down the wrangled and structed data to the output file.\n",
    "* It also returns the whole data to the calling method for further processing."
   ]
  },
  {
   "cell_type": "markdown",
   "metadata": {},
   "source": [
    "### Calling the initial method  "
   ]
  },
  {
   "cell_type": "code",
   "execution_count": 33,
   "metadata": {
    "collapsed": true
   },
   "outputs": [],
   "source": [
    "def main():\n",
    "\tdata = analysedata('Dallas_small.osm')\n",
    "\tpprint.pprint(data[0:10])"
   ]
  },
  {
   "cell_type": "markdown",
   "metadata": {},
   "source": [
    "The analysedata method is called with the target .osm file as a parameter to be analysed."
   ]
  },
  {
   "cell_type": "markdown",
   "metadata": {},
   "source": [
    "### Starting point of out code "
   ]
  },
  {
   "cell_type": "code",
   "execution_count": 34,
   "metadata": {
    "collapsed": false
   },
   "outputs": [
    {
     "name": "stdout",
     "output_type": "stream",
     "text": [
      "[{'created': {'changeset': '641383',\n",
      "              'timestamp': '2008-10-31T13:10:04Z',\n",
      "              'uid': '9065',\n",
      "              'user': 'brianboru',\n",
      "              'version': '4'},\n",
      "  'id': '26450261',\n",
      "  'pos': [32.9901295, -97.0027785],\n",
      "  'type': 'node'},\n",
      " {'created': {'changeset': '232647',\n",
      "              'timestamp': '2007-03-09T23:15:37Z',\n",
      "              'uid': '6514',\n",
      "              'user': 'user_6514',\n",
      "              'version': '1'},\n",
      "  'id': '26450262',\n",
      "  'pos': [32.9905615, -97.0033364],\n",
      "  'type': 'node'},\n",
      " {'created': {'changeset': '641383',\n",
      "              'timestamp': '2008-10-31T13:10:08Z',\n",
      "              'uid': '9065',\n",
      "              'user': 'brianboru',\n",
      "              'version': '2'},\n",
      "  'id': '26450263',\n",
      "  'pos': [32.9890496, -96.9993453],\n",
      "  'type': 'node'},\n",
      " {'created': {'changeset': '641383',\n",
      "              'timestamp': '2008-10-31T13:10:04Z',\n",
      "              'uid': '9065',\n",
      "              'user': 'brianboru',\n",
      "              'version': '4'},\n",
      "  'id': '26450265',\n",
      "  'pos': [32.9888157, -96.999517],\n",
      "  'type': 'node'},\n",
      " {'created': {'changeset': '508977',\n",
      "              'timestamp': '2008-10-22T16:56:08Z',\n",
      "              'uid': '9065',\n",
      "              'user': 'brianboru',\n",
      "              'version': '5'},\n",
      "  'id': '26450276',\n",
      "  'pos': [32.9892529, -96.9988979],\n",
      "  'type': 'node'},\n",
      " {'created': {'changeset': '14053537',\n",
      "              'timestamp': '2012-11-27T01:54:42Z',\n",
      "              'uid': '618879',\n",
      "              'user': 'van Rees',\n",
      "              'version': '3'},\n",
      "  'id': '26450280',\n",
      "  'pos': [32.9880816, -96.9981996],\n",
      "  'type': 'node'},\n",
      " {'created': {'changeset': '14053537',\n",
      "              'timestamp': '2012-11-27T01:54:42Z',\n",
      "              'uid': '618879',\n",
      "              'user': 'van Rees',\n",
      "              'version': '3'},\n",
      "  'id': '26451913',\n",
      "  'pos': [32.9877054, -96.996716],\n",
      "  'type': 'node'},\n",
      " {'created': {'changeset': '29626779',\n",
      "              'timestamp': '2015-03-20T22:59:56Z',\n",
      "              'uid': '2012449',\n",
      "              'user': 'Dami_Tn',\n",
      "              'version': '4'},\n",
      "  'id': '26451915',\n",
      "  'pos': [32.9880043, -96.9967079],\n",
      "  'type': 'node'},\n",
      " {'created': {'changeset': '641383',\n",
      "              'timestamp': '2008-10-31T13:10:21Z',\n",
      "              'uid': '9065',\n",
      "              'user': 'brianboru',\n",
      "              'version': '4'},\n",
      "  'id': '26451917',\n",
      "  'pos': [32.9868524, -96.9940042],\n",
      "  'type': 'node'},\n",
      " {'created': {'changeset': '232659',\n",
      "              'timestamp': '2007-03-10T00:39:33Z',\n",
      "              'uid': '6514',\n",
      "              'user': 'user_6514',\n",
      "              'version': '1'},\n",
      "  'id': '26451920',\n",
      "  'pos': [32.9866364, -96.9940472],\n",
      "  'type': 'node'}]\n"
     ]
    }
   ],
   "source": [
    "# call the main method\n",
    "if __name__ == '__main__':\n",
    "\tmain()"
   ]
  },
  {
   "cell_type": "markdown",
   "metadata": {},
   "source": [
    "### The Reduced Output of the wrangled data."
   ]
  }
 ],
 "metadata": {
  "anaconda-cloud": {},
  "kernelspec": {
   "display_name": "Python [default]",
   "language": "python",
   "name": "python2"
  },
  "language_info": {
   "codemirror_mode": {
    "name": "ipython",
    "version": 2
   },
   "file_extension": ".py",
   "mimetype": "text/x-python",
   "name": "python",
   "nbconvert_exporter": "python",
   "pygments_lexer": "ipython2",
   "version": "2.7.12"
  }
 },
 "nbformat": 4,
 "nbformat_minor": 1
}
